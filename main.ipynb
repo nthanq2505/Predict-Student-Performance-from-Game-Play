{
 "cells": [
  {
   "cell_type": "markdown",
   "metadata": {},
   "source": [
    "## <div align=\"center\" style=\"color:Cyan;\"> **Phân tích dữ liệu thông minh** </div>\n",
    "## <div align=\"center\" style=\"color:Cyan;\"> **Đồ án thực hành** </div>\n",
    "# <div align=\"center\"> Predict Student Performance from Game Play </div>\n"
   ]
  },
  {
   "cell_type": "markdown",
   "metadata": {},
   "source": [
    "## **Import các thư viện cần thiết**"
   ]
  },
  {
   "cell_type": "code",
   "execution_count": 2,
   "metadata": {},
   "outputs": [],
   "source": [
    "import numpy as np \n",
    "import pandas as pd\n",
    "import matplotlib.pyplot as plt\n",
    "import seaborn as sns"
   ]
  },
  {
   "cell_type": "markdown",
   "metadata": {},
   "source": [
    "## 1. Giới thiệu"
   ]
  },
  {
   "cell_type": "markdown",
   "metadata": {},
   "source": [
    "| Name      | MSSV |    Phân công công việc    |    Tiến độ hoàn thành    |\n",
    "| ----------- | ----------- | ----------- | ----------- |\n",
    "| Lê Nguyễn Nguyên Anh      | 20127438       ||100%|\n",
    "| Đặng Tiến Đạt      | 20127458       ||100%|\n",
    "| Nguyễn Quốc Thắng   | 20127627        ||100%|\n",
    "| Phạm Thị Ánh Phát   | 20127680        ||100%|"
   ]
  },
  {
   "cell_type": "markdown",
   "metadata": {},
   "source": [
    "- Đồ án được lấy từ cuộc thi [Predict Student Performance from Game Play](https://www.kaggle.com/c/data-science-bowl-2019/overview) trên Kaggle. \n",
    "- Hiện tại cuộc thi đã hoàn thành và đã kết thúc.\n",
    "- Mục tiêu của cuộc thi là dự đoán điểm số của học sinh dựa trên dữ liệu về cách chơi game của học sinh. Sau đó sử dụng kết quả dự đoán sẽ giúp thúc đẩy việc nghiên cứu các phương pháp theo dõi kiến thưucs học sinh dựa trên việc học tập trên các trò chơi giáo dục để tạo ra trải nghiệm học tập hiệu quả hơn cho học sinh, sinh viên."
   ]
  },
  {
   "cell_type": "code",
   "execution_count": 3,
   "metadata": {},
   "outputs": [
    {
     "name": "stdout",
     "output_type": "stream",
     "text": [
      "Full train dataset shape is (26296946, 20)\n"
     ]
    }
   ],
   "source": [
    "dtypes={\n",
    "    'elapsed_time':np.int32,\n",
    "    'event_name':'category',\n",
    "    'name':'category',\n",
    "    'level':np.uint8,\n",
    "    'room_coor_x':np.float32,\n",
    "    'room_coor_y':np.float32,\n",
    "    'screen_coor_x':np.float32,\n",
    "    'screen_coor_y':np.float32,\n",
    "    'hover_duration':np.float32,\n",
    "    'text':'category',\n",
    "    'fqid':'category',\n",
    "    'room_fqid':'category',\n",
    "    'text_fqid':'category',\n",
    "    'fullscreen':'category',\n",
    "    'hq':'category',\n",
    "    'music':'category',\n",
    "    'level_group':'category'}\n",
    "\n",
    "data1 = pd.read_csv('./data/train.csv', dtype=dtypes)\n",
    "print(\"Full train dataset shape is {}\".format(data1.shape))"
   ]
  }
 ],
 "metadata": {
  "kernelspec": {
   "display_name": "BioThesis",
   "language": "python",
   "name": "python3"
  },
  "language_info": {
   "codemirror_mode": {
    "name": "ipython",
    "version": 3
   },
   "file_extension": ".py",
   "mimetype": "text/x-python",
   "name": "python",
   "nbconvert_exporter": "python",
   "pygments_lexer": "ipython3",
   "version": "3.8.8"
  }
 },
 "nbformat": 4,
 "nbformat_minor": 2
}
